{
  "nbformat": 4,
  "nbformat_minor": 0,
  "metadata": {
    "colab": {
      "name": "bitcoin_prediction_graph",
      "provenance": [],
      "collapsed_sections": [],
      "authorship_tag": "ABX9TyOijIORODl+DSR5Qb//4bHq"
    },
    "kernelspec": {
      "name": "python3",
      "display_name": "Python 3"
    }
  },
  "cells": [
    {
      "cell_type": "code",
      "metadata": {
        "id": "QgXtx593NXms",
        "colab_type": "code",
        "colab": {}
      },
      "source": [
        "import numpy as np\n",
        "import matplotlib.pyplot as plt\n",
        "import pandas as pd\n",
        "from sklearn.preprocessing import MinMaxScaler"
      ],
      "execution_count": 1,
      "outputs": []
    },
    {
      "cell_type": "code",
      "metadata": {
        "id": "ikEZUd6hNmvV",
        "colab_type": "code",
        "colab": {
          "base_uri": "https://localhost:8080/",
          "height": 195
        },
        "outputId": "ed1a0bd3-a1b5-4526-92d7-a102d7c5b490"
      },
      "source": [
        "\n",
        "data = pd.read_csv('BTC-USD.csv', date_parser = True)\n",
        "data.tail()"
      ],
      "execution_count": 2,
      "outputs": [
        {
          "output_type": "execute_result",
          "data": {
            "text/html": [
              "<div>\n",
              "<style scoped>\n",
              "    .dataframe tbody tr th:only-of-type {\n",
              "        vertical-align: middle;\n",
              "    }\n",
              "\n",
              "    .dataframe tbody tr th {\n",
              "        vertical-align: top;\n",
              "    }\n",
              "\n",
              "    .dataframe thead th {\n",
              "        text-align: right;\n",
              "    }\n",
              "</style>\n",
              "<table border=\"1\" class=\"dataframe\">\n",
              "  <thead>\n",
              "    <tr style=\"text-align: right;\">\n",
              "      <th></th>\n",
              "      <th>Date</th>\n",
              "      <th>Open</th>\n",
              "      <th>High</th>\n",
              "      <th>Low</th>\n",
              "      <th>Close</th>\n",
              "      <th>Adj Close</th>\n",
              "      <th>Volume</th>\n",
              "    </tr>\n",
              "  </thead>\n",
              "  <tbody>\n",
              "    <tr>\n",
              "      <th>2075</th>\n",
              "      <td>2020-05-23</td>\n",
              "      <td>9185.062500</td>\n",
              "      <td>9302.501953</td>\n",
              "      <td>9118.108398</td>\n",
              "      <td>9209.287109</td>\n",
              "      <td>9209.287109</td>\n",
              "      <td>2.772787e+10</td>\n",
              "    </tr>\n",
              "    <tr>\n",
              "      <th>2076</th>\n",
              "      <td>2020-05-24</td>\n",
              "      <td>9212.283203</td>\n",
              "      <td>9288.404297</td>\n",
              "      <td>8787.250977</td>\n",
              "      <td>8790.368164</td>\n",
              "      <td>8790.368164</td>\n",
              "      <td>3.251880e+10</td>\n",
              "    </tr>\n",
              "    <tr>\n",
              "      <th>2077</th>\n",
              "      <td>2020-05-25</td>\n",
              "      <td>8786.107422</td>\n",
              "      <td>8951.005859</td>\n",
              "      <td>8719.667969</td>\n",
              "      <td>8906.934570</td>\n",
              "      <td>8906.934570</td>\n",
              "      <td>3.128816e+10</td>\n",
              "    </tr>\n",
              "    <tr>\n",
              "      <th>2078</th>\n",
              "      <td>2020-05-26</td>\n",
              "      <td>NaN</td>\n",
              "      <td>NaN</td>\n",
              "      <td>NaN</td>\n",
              "      <td>NaN</td>\n",
              "      <td>NaN</td>\n",
              "      <td>NaN</td>\n",
              "    </tr>\n",
              "    <tr>\n",
              "      <th>2079</th>\n",
              "      <td>2020-05-27</td>\n",
              "      <td>8834.157227</td>\n",
              "      <td>8859.578125</td>\n",
              "      <td>8834.157227</td>\n",
              "      <td>8856.885742</td>\n",
              "      <td>8856.885742</td>\n",
              "      <td>2.914432e+10</td>\n",
              "    </tr>\n",
              "  </tbody>\n",
              "</table>\n",
              "</div>"
            ],
            "text/plain": [
              "            Date         Open  ...    Adj Close        Volume\n",
              "2075  2020-05-23  9185.062500  ...  9209.287109  2.772787e+10\n",
              "2076  2020-05-24  9212.283203  ...  8790.368164  3.251880e+10\n",
              "2077  2020-05-25  8786.107422  ...  8906.934570  3.128816e+10\n",
              "2078  2020-05-26          NaN  ...          NaN           NaN\n",
              "2079  2020-05-27  8834.157227  ...  8856.885742  2.914432e+10\n",
              "\n",
              "[5 rows x 7 columns]"
            ]
          },
          "metadata": {
            "tags": []
          },
          "execution_count": 2
        }
      ]
    },
    {
      "cell_type": "code",
      "metadata": {
        "id": "e6MUSfJJNmy9",
        "colab_type": "code",
        "colab": {
          "base_uri": "https://localhost:8080/",
          "height": 402
        },
        "outputId": "90b5ddb5-c6ee-4937-9bf2-24d08a453445"
      },
      "source": [
        "\n",
        "data_training = data[data['Date']< '2020-01-01'].copy()\n",
        "data_training"
      ],
      "execution_count": 3,
      "outputs": [
        {
          "output_type": "execute_result",
          "data": {
            "text/html": [
              "<div>\n",
              "<style scoped>\n",
              "    .dataframe tbody tr th:only-of-type {\n",
              "        vertical-align: middle;\n",
              "    }\n",
              "\n",
              "    .dataframe tbody tr th {\n",
              "        vertical-align: top;\n",
              "    }\n",
              "\n",
              "    .dataframe thead th {\n",
              "        text-align: right;\n",
              "    }\n",
              "</style>\n",
              "<table border=\"1\" class=\"dataframe\">\n",
              "  <thead>\n",
              "    <tr style=\"text-align: right;\">\n",
              "      <th></th>\n",
              "      <th>Date</th>\n",
              "      <th>Open</th>\n",
              "      <th>High</th>\n",
              "      <th>Low</th>\n",
              "      <th>Close</th>\n",
              "      <th>Adj Close</th>\n",
              "      <th>Volume</th>\n",
              "    </tr>\n",
              "  </thead>\n",
              "  <tbody>\n",
              "    <tr>\n",
              "      <th>0</th>\n",
              "      <td>2014-09-17</td>\n",
              "      <td>465.864014</td>\n",
              "      <td>468.174011</td>\n",
              "      <td>452.421997</td>\n",
              "      <td>457.334015</td>\n",
              "      <td>457.334015</td>\n",
              "      <td>2.105680e+07</td>\n",
              "    </tr>\n",
              "    <tr>\n",
              "      <th>1</th>\n",
              "      <td>2014-09-18</td>\n",
              "      <td>456.859985</td>\n",
              "      <td>456.859985</td>\n",
              "      <td>413.104004</td>\n",
              "      <td>424.440002</td>\n",
              "      <td>424.440002</td>\n",
              "      <td>3.448320e+07</td>\n",
              "    </tr>\n",
              "    <tr>\n",
              "      <th>2</th>\n",
              "      <td>2014-09-19</td>\n",
              "      <td>424.102997</td>\n",
              "      <td>427.834991</td>\n",
              "      <td>384.532013</td>\n",
              "      <td>394.795990</td>\n",
              "      <td>394.795990</td>\n",
              "      <td>3.791970e+07</td>\n",
              "    </tr>\n",
              "    <tr>\n",
              "      <th>3</th>\n",
              "      <td>2014-09-20</td>\n",
              "      <td>394.673004</td>\n",
              "      <td>423.295990</td>\n",
              "      <td>389.882996</td>\n",
              "      <td>408.903992</td>\n",
              "      <td>408.903992</td>\n",
              "      <td>3.686360e+07</td>\n",
              "    </tr>\n",
              "    <tr>\n",
              "      <th>4</th>\n",
              "      <td>2014-09-21</td>\n",
              "      <td>408.084991</td>\n",
              "      <td>412.425995</td>\n",
              "      <td>393.181000</td>\n",
              "      <td>398.821014</td>\n",
              "      <td>398.821014</td>\n",
              "      <td>2.658010e+07</td>\n",
              "    </tr>\n",
              "    <tr>\n",
              "      <th>...</th>\n",
              "      <td>...</td>\n",
              "      <td>...</td>\n",
              "      <td>...</td>\n",
              "      <td>...</td>\n",
              "      <td>...</td>\n",
              "      <td>...</td>\n",
              "      <td>...</td>\n",
              "    </tr>\n",
              "    <tr>\n",
              "      <th>1927</th>\n",
              "      <td>2019-12-27</td>\n",
              "      <td>7238.141113</td>\n",
              "      <td>7363.529297</td>\n",
              "      <td>7189.934082</td>\n",
              "      <td>7290.088379</td>\n",
              "      <td>7290.088379</td>\n",
              "      <td>2.277736e+10</td>\n",
              "    </tr>\n",
              "    <tr>\n",
              "      <th>1928</th>\n",
              "      <td>2019-12-28</td>\n",
              "      <td>7289.031250</td>\n",
              "      <td>7399.041016</td>\n",
              "      <td>7286.905273</td>\n",
              "      <td>7317.990234</td>\n",
              "      <td>7317.990234</td>\n",
              "      <td>2.136567e+10</td>\n",
              "    </tr>\n",
              "    <tr>\n",
              "      <th>1929</th>\n",
              "      <td>2019-12-29</td>\n",
              "      <td>7317.647461</td>\n",
              "      <td>7513.948242</td>\n",
              "      <td>7279.865234</td>\n",
              "      <td>7422.652832</td>\n",
              "      <td>7422.652832</td>\n",
              "      <td>2.244526e+10</td>\n",
              "    </tr>\n",
              "    <tr>\n",
              "      <th>1930</th>\n",
              "      <td>2019-12-30</td>\n",
              "      <td>7420.272949</td>\n",
              "      <td>7454.824219</td>\n",
              "      <td>7276.308105</td>\n",
              "      <td>7292.995117</td>\n",
              "      <td>7292.995117</td>\n",
              "      <td>2.287413e+10</td>\n",
              "    </tr>\n",
              "    <tr>\n",
              "      <th>1931</th>\n",
              "      <td>2019-12-31</td>\n",
              "      <td>7294.438965</td>\n",
              "      <td>7335.290039</td>\n",
              "      <td>7169.777832</td>\n",
              "      <td>7193.599121</td>\n",
              "      <td>7193.599121</td>\n",
              "      <td>2.116795e+10</td>\n",
              "    </tr>\n",
              "  </tbody>\n",
              "</table>\n",
              "<p>1932 rows × 7 columns</p>\n",
              "</div>"
            ],
            "text/plain": [
              "            Date         Open  ...    Adj Close        Volume\n",
              "0     2014-09-17   465.864014  ...   457.334015  2.105680e+07\n",
              "1     2014-09-18   456.859985  ...   424.440002  3.448320e+07\n",
              "2     2014-09-19   424.102997  ...   394.795990  3.791970e+07\n",
              "3     2014-09-20   394.673004  ...   408.903992  3.686360e+07\n",
              "4     2014-09-21   408.084991  ...   398.821014  2.658010e+07\n",
              "...          ...          ...  ...          ...           ...\n",
              "1927  2019-12-27  7238.141113  ...  7290.088379  2.277736e+10\n",
              "1928  2019-12-28  7289.031250  ...  7317.990234  2.136567e+10\n",
              "1929  2019-12-29  7317.647461  ...  7422.652832  2.244526e+10\n",
              "1930  2019-12-30  7420.272949  ...  7292.995117  2.287413e+10\n",
              "1931  2019-12-31  7294.438965  ...  7193.599121  2.116795e+10\n",
              "\n",
              "[1932 rows x 7 columns]"
            ]
          },
          "metadata": {
            "tags": []
          },
          "execution_count": 3
        }
      ]
    },
    {
      "cell_type": "code",
      "metadata": {
        "id": "YpsKGdONNm2W",
        "colab_type": "code",
        "colab": {
          "base_uri": "https://localhost:8080/",
          "height": 402
        },
        "outputId": "9a2be0de-e4cf-4192-b4aa-6c22a677cfba"
      },
      "source": [
        "\n",
        "data_test = data[data['Date']> '2020-01-01'].copy()\n",
        "data_test"
      ],
      "execution_count": 4,
      "outputs": [
        {
          "output_type": "execute_result",
          "data": {
            "text/html": [
              "<div>\n",
              "<style scoped>\n",
              "    .dataframe tbody tr th:only-of-type {\n",
              "        vertical-align: middle;\n",
              "    }\n",
              "\n",
              "    .dataframe tbody tr th {\n",
              "        vertical-align: top;\n",
              "    }\n",
              "\n",
              "    .dataframe thead th {\n",
              "        text-align: right;\n",
              "    }\n",
              "</style>\n",
              "<table border=\"1\" class=\"dataframe\">\n",
              "  <thead>\n",
              "    <tr style=\"text-align: right;\">\n",
              "      <th></th>\n",
              "      <th>Date</th>\n",
              "      <th>Open</th>\n",
              "      <th>High</th>\n",
              "      <th>Low</th>\n",
              "      <th>Close</th>\n",
              "      <th>Adj Close</th>\n",
              "      <th>Volume</th>\n",
              "    </tr>\n",
              "  </thead>\n",
              "  <tbody>\n",
              "    <tr>\n",
              "      <th>1933</th>\n",
              "      <td>2020-01-02</td>\n",
              "      <td>7202.551270</td>\n",
              "      <td>7212.155273</td>\n",
              "      <td>6935.270020</td>\n",
              "      <td>6985.470215</td>\n",
              "      <td>6985.470215</td>\n",
              "      <td>2.080208e+10</td>\n",
              "    </tr>\n",
              "    <tr>\n",
              "      <th>1934</th>\n",
              "      <td>2020-01-03</td>\n",
              "      <td>6984.428711</td>\n",
              "      <td>7413.715332</td>\n",
              "      <td>6914.996094</td>\n",
              "      <td>7344.884277</td>\n",
              "      <td>7344.884277</td>\n",
              "      <td>2.811148e+10</td>\n",
              "    </tr>\n",
              "    <tr>\n",
              "      <th>1935</th>\n",
              "      <td>2020-01-04</td>\n",
              "      <td>7345.375488</td>\n",
              "      <td>7427.385742</td>\n",
              "      <td>7309.514160</td>\n",
              "      <td>7410.656738</td>\n",
              "      <td>7410.656738</td>\n",
              "      <td>1.844427e+10</td>\n",
              "    </tr>\n",
              "    <tr>\n",
              "      <th>1936</th>\n",
              "      <td>2020-01-05</td>\n",
              "      <td>7410.451660</td>\n",
              "      <td>7544.497070</td>\n",
              "      <td>7400.535645</td>\n",
              "      <td>7411.317383</td>\n",
              "      <td>7411.317383</td>\n",
              "      <td>1.972507e+10</td>\n",
              "    </tr>\n",
              "    <tr>\n",
              "      <th>1937</th>\n",
              "      <td>2020-01-06</td>\n",
              "      <td>7410.452148</td>\n",
              "      <td>7781.867188</td>\n",
              "      <td>7409.292969</td>\n",
              "      <td>7769.219238</td>\n",
              "      <td>7769.219238</td>\n",
              "      <td>2.327626e+10</td>\n",
              "    </tr>\n",
              "    <tr>\n",
              "      <th>...</th>\n",
              "      <td>...</td>\n",
              "      <td>...</td>\n",
              "      <td>...</td>\n",
              "      <td>...</td>\n",
              "      <td>...</td>\n",
              "      <td>...</td>\n",
              "      <td>...</td>\n",
              "    </tr>\n",
              "    <tr>\n",
              "      <th>2075</th>\n",
              "      <td>2020-05-23</td>\n",
              "      <td>9185.062500</td>\n",
              "      <td>9302.501953</td>\n",
              "      <td>9118.108398</td>\n",
              "      <td>9209.287109</td>\n",
              "      <td>9209.287109</td>\n",
              "      <td>2.772787e+10</td>\n",
              "    </tr>\n",
              "    <tr>\n",
              "      <th>2076</th>\n",
              "      <td>2020-05-24</td>\n",
              "      <td>9212.283203</td>\n",
              "      <td>9288.404297</td>\n",
              "      <td>8787.250977</td>\n",
              "      <td>8790.368164</td>\n",
              "      <td>8790.368164</td>\n",
              "      <td>3.251880e+10</td>\n",
              "    </tr>\n",
              "    <tr>\n",
              "      <th>2077</th>\n",
              "      <td>2020-05-25</td>\n",
              "      <td>8786.107422</td>\n",
              "      <td>8951.005859</td>\n",
              "      <td>8719.667969</td>\n",
              "      <td>8906.934570</td>\n",
              "      <td>8906.934570</td>\n",
              "      <td>3.128816e+10</td>\n",
              "    </tr>\n",
              "    <tr>\n",
              "      <th>2078</th>\n",
              "      <td>2020-05-26</td>\n",
              "      <td>NaN</td>\n",
              "      <td>NaN</td>\n",
              "      <td>NaN</td>\n",
              "      <td>NaN</td>\n",
              "      <td>NaN</td>\n",
              "      <td>NaN</td>\n",
              "    </tr>\n",
              "    <tr>\n",
              "      <th>2079</th>\n",
              "      <td>2020-05-27</td>\n",
              "      <td>8834.157227</td>\n",
              "      <td>8859.578125</td>\n",
              "      <td>8834.157227</td>\n",
              "      <td>8856.885742</td>\n",
              "      <td>8856.885742</td>\n",
              "      <td>2.914432e+10</td>\n",
              "    </tr>\n",
              "  </tbody>\n",
              "</table>\n",
              "<p>147 rows × 7 columns</p>\n",
              "</div>"
            ],
            "text/plain": [
              "            Date         Open  ...    Adj Close        Volume\n",
              "1933  2020-01-02  7202.551270  ...  6985.470215  2.080208e+10\n",
              "1934  2020-01-03  6984.428711  ...  7344.884277  2.811148e+10\n",
              "1935  2020-01-04  7345.375488  ...  7410.656738  1.844427e+10\n",
              "1936  2020-01-05  7410.451660  ...  7411.317383  1.972507e+10\n",
              "1937  2020-01-06  7410.452148  ...  7769.219238  2.327626e+10\n",
              "...          ...          ...  ...          ...           ...\n",
              "2075  2020-05-23  9185.062500  ...  9209.287109  2.772787e+10\n",
              "2076  2020-05-24  9212.283203  ...  8790.368164  3.251880e+10\n",
              "2077  2020-05-25  8786.107422  ...  8906.934570  3.128816e+10\n",
              "2078  2020-05-26          NaN  ...          NaN           NaN\n",
              "2079  2020-05-27  8834.157227  ...  8856.885742  2.914432e+10\n",
              "\n",
              "[147 rows x 7 columns]"
            ]
          },
          "metadata": {
            "tags": []
          },
          "execution_count": 4
        }
      ]
    },
    {
      "cell_type": "code",
      "metadata": {
        "id": "1vHZIdMXNm5D",
        "colab_type": "code",
        "colab": {
          "base_uri": "https://localhost:8080/",
          "height": 195
        },
        "outputId": "95715fce-8066-4901-b870-d107123b1db0"
      },
      "source": [
        "\n",
        "training_data = data_training.drop(['Date', 'Adj Close'], axis = 1)\n",
        "training_data.head()"
      ],
      "execution_count": 5,
      "outputs": [
        {
          "output_type": "execute_result",
          "data": {
            "text/html": [
              "<div>\n",
              "<style scoped>\n",
              "    .dataframe tbody tr th:only-of-type {\n",
              "        vertical-align: middle;\n",
              "    }\n",
              "\n",
              "    .dataframe tbody tr th {\n",
              "        vertical-align: top;\n",
              "    }\n",
              "\n",
              "    .dataframe thead th {\n",
              "        text-align: right;\n",
              "    }\n",
              "</style>\n",
              "<table border=\"1\" class=\"dataframe\">\n",
              "  <thead>\n",
              "    <tr style=\"text-align: right;\">\n",
              "      <th></th>\n",
              "      <th>Open</th>\n",
              "      <th>High</th>\n",
              "      <th>Low</th>\n",
              "      <th>Close</th>\n",
              "      <th>Volume</th>\n",
              "    </tr>\n",
              "  </thead>\n",
              "  <tbody>\n",
              "    <tr>\n",
              "      <th>0</th>\n",
              "      <td>465.864014</td>\n",
              "      <td>468.174011</td>\n",
              "      <td>452.421997</td>\n",
              "      <td>457.334015</td>\n",
              "      <td>21056800.0</td>\n",
              "    </tr>\n",
              "    <tr>\n",
              "      <th>1</th>\n",
              "      <td>456.859985</td>\n",
              "      <td>456.859985</td>\n",
              "      <td>413.104004</td>\n",
              "      <td>424.440002</td>\n",
              "      <td>34483200.0</td>\n",
              "    </tr>\n",
              "    <tr>\n",
              "      <th>2</th>\n",
              "      <td>424.102997</td>\n",
              "      <td>427.834991</td>\n",
              "      <td>384.532013</td>\n",
              "      <td>394.795990</td>\n",
              "      <td>37919700.0</td>\n",
              "    </tr>\n",
              "    <tr>\n",
              "      <th>3</th>\n",
              "      <td>394.673004</td>\n",
              "      <td>423.295990</td>\n",
              "      <td>389.882996</td>\n",
              "      <td>408.903992</td>\n",
              "      <td>36863600.0</td>\n",
              "    </tr>\n",
              "    <tr>\n",
              "      <th>4</th>\n",
              "      <td>408.084991</td>\n",
              "      <td>412.425995</td>\n",
              "      <td>393.181000</td>\n",
              "      <td>398.821014</td>\n",
              "      <td>26580100.0</td>\n",
              "    </tr>\n",
              "  </tbody>\n",
              "</table>\n",
              "</div>"
            ],
            "text/plain": [
              "         Open        High         Low       Close      Volume\n",
              "0  465.864014  468.174011  452.421997  457.334015  21056800.0\n",
              "1  456.859985  456.859985  413.104004  424.440002  34483200.0\n",
              "2  424.102997  427.834991  384.532013  394.795990  37919700.0\n",
              "3  394.673004  423.295990  389.882996  408.903992  36863600.0\n",
              "4  408.084991  412.425995  393.181000  398.821014  26580100.0"
            ]
          },
          "metadata": {
            "tags": []
          },
          "execution_count": 5
        }
      ]
    },
    {
      "cell_type": "code",
      "metadata": {
        "id": "PTO665O4Nm7q",
        "colab_type": "code",
        "colab": {
          "base_uri": "https://localhost:8080/",
          "height": 235
        },
        "outputId": "2e358b29-a25c-4128-9758-3053f0642674"
      },
      "source": [
        "\n",
        "scaler = MinMaxScaler()\n",
        "training_data = scaler.fit_transform(training_data)\n",
        "training_data"
      ],
      "execution_count": 6,
      "outputs": [
        {
          "output_type": "execute_result",
          "data": {
            "text/plain": [
              "array([[1.49732345e-02, 1.29013200e-02, 1.49400698e-02, 1.44534769e-02,\n",
              "        3.35749244e-04],\n",
              "       [1.45066780e-02, 1.23321258e-02, 1.28489753e-02, 1.27508263e-02,\n",
              "        6.33453324e-04],\n",
              "       [1.28093283e-02, 1.08719155e-02, 1.13293978e-02, 1.12164013e-02,\n",
              "        7.09650970e-04],\n",
              "       ...,\n",
              "       [3.70008086e-01, 3.67365217e-01, 3.78051927e-01, 3.74990337e-01,\n",
              "        4.97548412e-01],\n",
              "       [3.75325771e-01, 3.64390763e-01, 3.77862744e-01, 3.68279031e-01,\n",
              "        5.07057851e-01],\n",
              "       [3.68805505e-01, 3.58377151e-01, 3.72197021e-01, 3.63134123e-01,\n",
              "        4.69226533e-01]])"
            ]
          },
          "metadata": {
            "tags": []
          },
          "execution_count": 6
        }
      ]
    },
    {
      "cell_type": "code",
      "metadata": {
        "id": "lMEvDKVlNm-W",
        "colab_type": "code",
        "colab": {}
      },
      "source": [
        "\n",
        "X_train = []\n",
        "Y_train = []"
      ],
      "execution_count": 7,
      "outputs": []
    },
    {
      "cell_type": "code",
      "metadata": {
        "id": "ySrGbh1PNnAz",
        "colab_type": "code",
        "colab": {
          "base_uri": "https://localhost:8080/",
          "height": 34
        },
        "outputId": "8489df25-ddfb-4c16-f021-a34771056e45"
      },
      "source": [
        "training_data.shape[0]"
      ],
      "execution_count": 8,
      "outputs": [
        {
          "output_type": "execute_result",
          "data": {
            "text/plain": [
              "1932"
            ]
          },
          "metadata": {
            "tags": []
          },
          "execution_count": 8
        }
      ]
    },
    {
      "cell_type": "code",
      "metadata": {
        "id": "Y7L3tTtvNnDj",
        "colab_type": "code",
        "colab": {}
      },
      "source": [
        "\n",
        "for i in range(60, training_data.shape[0]):\n",
        "    X_train.append(training_data[i-60:i])\n",
        "    Y_train.append(training_data[i,0])"
      ],
      "execution_count": 9,
      "outputs": []
    },
    {
      "cell_type": "code",
      "metadata": {
        "id": "Eb8khlTfNnGk",
        "colab_type": "code",
        "colab": {}
      },
      "source": [
        "X_train, Y_train = np.array(X_train), np.array(Y_train)"
      ],
      "execution_count": 10,
      "outputs": []
    },
    {
      "cell_type": "code",
      "metadata": {
        "id": "h3SyeyfPNnJT",
        "colab_type": "code",
        "colab": {
          "base_uri": "https://localhost:8080/",
          "height": 34
        },
        "outputId": "5381d704-2285-4b02-ffd8-dc6c7bad3a64"
      },
      "source": [
        "\n",
        "X_train.shape"
      ],
      "execution_count": 11,
      "outputs": [
        {
          "output_type": "execute_result",
          "data": {
            "text/plain": [
              "(1872, 60, 5)"
            ]
          },
          "metadata": {
            "tags": []
          },
          "execution_count": 11
        }
      ]
    },
    {
      "cell_type": "code",
      "metadata": {
        "id": "yXEKVvJyNnLs",
        "colab_type": "code",
        "colab": {}
      },
      "source": [
        "\n",
        "from tensorflow.keras import Sequential\n",
        "from tensorflow.keras.layers import Dense, LSTM, Dropout"
      ],
      "execution_count": 12,
      "outputs": []
    },
    {
      "cell_type": "code",
      "metadata": {
        "id": "ttBlnM5BNnRQ",
        "colab_type": "code",
        "colab": {}
      },
      "source": [
        "\n",
        "regressor = Sequential()\n",
        "regressor.add(LSTM(units = 50, activation = 'relu', return_sequences = True, input_shape = (X_train.shape[1], 5)))\n",
        "regressor.add(Dropout(0.2))"
      ],
      "execution_count": 13,
      "outputs": []
    },
    {
      "cell_type": "code",
      "metadata": {
        "id": "qp7_xy7kNnUN",
        "colab_type": "code",
        "colab": {}
      },
      "source": [
        "regressor.add(LSTM(units = 60, activation = 'relu', return_sequences = True))\n",
        "regressor.add(Dropout(0.3))\n",
        "\n",
        "regressor.add(LSTM(units = 80, activation = 'relu', return_sequences = True))\n",
        "regressor.add(Dropout(0.4))\n",
        "\n",
        "regressor.add(LSTM(units = 120, activation = 'relu'))\n",
        "regressor.add(Dropout(0.5))\n",
        "\n",
        "regressor.add(Dense(units =1))"
      ],
      "execution_count": 14,
      "outputs": []
    },
    {
      "cell_type": "code",
      "metadata": {
        "id": "nx_g4b9-OL8P",
        "colab_type": "code",
        "colab": {
          "base_uri": "https://localhost:8080/",
          "height": 454
        },
        "outputId": "09238f6c-7ef5-4be0-fea8-2f85a65fb620"
      },
      "source": [
        "regressor.summary()"
      ],
      "execution_count": 15,
      "outputs": [
        {
          "output_type": "stream",
          "text": [
            "Model: \"sequential\"\n",
            "_________________________________________________________________\n",
            "Layer (type)                 Output Shape              Param #   \n",
            "=================================================================\n",
            "lstm (LSTM)                  (None, 60, 50)            11200     \n",
            "_________________________________________________________________\n",
            "dropout (Dropout)            (None, 60, 50)            0         \n",
            "_________________________________________________________________\n",
            "lstm_1 (LSTM)                (None, 60, 60)            26640     \n",
            "_________________________________________________________________\n",
            "dropout_1 (Dropout)          (None, 60, 60)            0         \n",
            "_________________________________________________________________\n",
            "lstm_2 (LSTM)                (None, 60, 80)            45120     \n",
            "_________________________________________________________________\n",
            "dropout_2 (Dropout)          (None, 60, 80)            0         \n",
            "_________________________________________________________________\n",
            "lstm_3 (LSTM)                (None, 120)               96480     \n",
            "_________________________________________________________________\n",
            "dropout_3 (Dropout)          (None, 120)               0         \n",
            "_________________________________________________________________\n",
            "dense (Dense)                (None, 1)                 121       \n",
            "=================================================================\n",
            "Total params: 179,561\n",
            "Trainable params: 179,561\n",
            "Non-trainable params: 0\n",
            "_________________________________________________________________\n"
          ],
          "name": "stdout"
        }
      ]
    },
    {
      "cell_type": "code",
      "metadata": {
        "id": "XUGcuuUGOL_Y",
        "colab_type": "code",
        "colab": {}
      },
      "source": [
        "regressor.compile(optimizer = 'adam', loss = 'mean_squared_error')"
      ],
      "execution_count": 17,
      "outputs": []
    },
    {
      "cell_type": "code",
      "metadata": {
        "id": "z4RB7kUmOMEh",
        "colab_type": "code",
        "colab": {
          "base_uri": "https://localhost:8080/",
          "height": 706
        },
        "outputId": "b766207a-ad69-4e45-f155-734975b10a60"
      },
      "source": [
        "regressor.fit(X_train, Y_train, epochs = 20, batch_size =50)"
      ],
      "execution_count": 18,
      "outputs": [
        {
          "output_type": "stream",
          "text": [
            "Epoch 1/20\n",
            "38/38 [==============================] - 7s 182ms/step - loss: 0.0234\n",
            "Epoch 2/20\n",
            "38/38 [==============================] - 7s 180ms/step - loss: 0.0056\n",
            "Epoch 3/20\n",
            "38/38 [==============================] - 7s 180ms/step - loss: 0.0051\n",
            "Epoch 4/20\n",
            "38/38 [==============================] - 7s 181ms/step - loss: 0.0043\n",
            "Epoch 5/20\n",
            "38/38 [==============================] - 7s 180ms/step - loss: 0.0041\n",
            "Epoch 6/20\n",
            "38/38 [==============================] - 7s 181ms/step - loss: 0.0043\n",
            "Epoch 7/20\n",
            "38/38 [==============================] - 7s 182ms/step - loss: 0.0037\n",
            "Epoch 8/20\n",
            "38/38 [==============================] - 7s 180ms/step - loss: 0.0034\n",
            "Epoch 9/20\n",
            "38/38 [==============================] - 7s 182ms/step - loss: 0.0042\n",
            "Epoch 10/20\n",
            "38/38 [==============================] - 7s 181ms/step - loss: 0.0033\n",
            "Epoch 11/20\n",
            "38/38 [==============================] - 7s 182ms/step - loss: 0.0034\n",
            "Epoch 12/20\n",
            "38/38 [==============================] - 7s 181ms/step - loss: 0.0026\n",
            "Epoch 13/20\n",
            "38/38 [==============================] - 7s 181ms/step - loss: 0.0027\n",
            "Epoch 14/20\n",
            "38/38 [==============================] - 7s 182ms/step - loss: 0.0028\n",
            "Epoch 15/20\n",
            "38/38 [==============================] - 7s 182ms/step - loss: 0.0026\n",
            "Epoch 16/20\n",
            "38/38 [==============================] - 7s 182ms/step - loss: 0.0027\n",
            "Epoch 17/20\n",
            "38/38 [==============================] - 7s 181ms/step - loss: 0.0027\n",
            "Epoch 18/20\n",
            "38/38 [==============================] - 7s 183ms/step - loss: 0.0023\n",
            "Epoch 19/20\n",
            "38/38 [==============================] - 7s 181ms/step - loss: 0.0024\n",
            "Epoch 20/20\n",
            "38/38 [==============================] - 7s 183ms/step - loss: 0.0023\n"
          ],
          "name": "stdout"
        },
        {
          "output_type": "execute_result",
          "data": {
            "text/plain": [
              "<tensorflow.python.keras.callbacks.History at 0x7fd5c21aa710>"
            ]
          },
          "metadata": {
            "tags": []
          },
          "execution_count": 18
        }
      ]
    },
    {
      "cell_type": "code",
      "metadata": {
        "id": "8La0Q2dFOMJX",
        "colab_type": "code",
        "colab": {
          "base_uri": "https://localhost:8080/",
          "height": 195
        },
        "outputId": "1dd81882-8e0f-44a1-9821-2da28606d169"
      },
      "source": [
        "past_60_days = data_training.tail(60)\n",
        "df= past_60_days.append(data_test, ignore_index = True)\n",
        "df = df.drop(['Date', 'Adj Close'], axis = 1)\n",
        "df.head()\n"
      ],
      "execution_count": 19,
      "outputs": [
        {
          "output_type": "execute_result",
          "data": {
            "text/html": [
              "<div>\n",
              "<style scoped>\n",
              "    .dataframe tbody tr th:only-of-type {\n",
              "        vertical-align: middle;\n",
              "    }\n",
              "\n",
              "    .dataframe tbody tr th {\n",
              "        vertical-align: top;\n",
              "    }\n",
              "\n",
              "    .dataframe thead th {\n",
              "        text-align: right;\n",
              "    }\n",
              "</style>\n",
              "<table border=\"1\" class=\"dataframe\">\n",
              "  <thead>\n",
              "    <tr style=\"text-align: right;\">\n",
              "      <th></th>\n",
              "      <th>Open</th>\n",
              "      <th>High</th>\n",
              "      <th>Low</th>\n",
              "      <th>Close</th>\n",
              "      <th>Volume</th>\n",
              "    </tr>\n",
              "  </thead>\n",
              "  <tbody>\n",
              "    <tr>\n",
              "      <th>0</th>\n",
              "      <td>9259.783203</td>\n",
              "      <td>9377.486328</td>\n",
              "      <td>9249.587891</td>\n",
              "      <td>9324.717773</td>\n",
              "      <td>2.124268e+10</td>\n",
              "    </tr>\n",
              "    <tr>\n",
              "      <th>1</th>\n",
              "      <td>9324.787109</td>\n",
              "      <td>9379.806641</td>\n",
              "      <td>9141.251953</td>\n",
              "      <td>9235.354492</td>\n",
              "      <td>2.113222e+10</td>\n",
              "    </tr>\n",
              "    <tr>\n",
              "      <th>2</th>\n",
              "      <td>9235.607422</td>\n",
              "      <td>9505.051758</td>\n",
              "      <td>9191.485352</td>\n",
              "      <td>9412.612305</td>\n",
              "      <td>2.617026e+10</td>\n",
              "    </tr>\n",
              "    <tr>\n",
              "      <th>3</th>\n",
              "      <td>9413.004883</td>\n",
              "      <td>9457.417969</td>\n",
              "      <td>9256.931641</td>\n",
              "      <td>9342.527344</td>\n",
              "      <td>2.619861e+10</td>\n",
              "    </tr>\n",
              "    <tr>\n",
              "      <th>4</th>\n",
              "      <td>9340.864258</td>\n",
              "      <td>9423.237305</td>\n",
              "      <td>9305.909180</td>\n",
              "      <td>9360.879883</td>\n",
              "      <td>2.313390e+10</td>\n",
              "    </tr>\n",
              "  </tbody>\n",
              "</table>\n",
              "</div>"
            ],
            "text/plain": [
              "          Open         High          Low        Close        Volume\n",
              "0  9259.783203  9377.486328  9249.587891  9324.717773  2.124268e+10\n",
              "1  9324.787109  9379.806641  9141.251953  9235.354492  2.113222e+10\n",
              "2  9235.607422  9505.051758  9191.485352  9412.612305  2.617026e+10\n",
              "3  9413.004883  9457.417969  9256.931641  9342.527344  2.619861e+10\n",
              "4  9340.864258  9423.237305  9305.909180  9360.879883  2.313390e+10"
            ]
          },
          "metadata": {
            "tags": []
          },
          "execution_count": 19
        }
      ]
    },
    {
      "cell_type": "code",
      "metadata": {
        "id": "nm_xsnZSOMMG",
        "colab_type": "code",
        "colab": {
          "base_uri": "https://localhost:8080/",
          "height": 134
        },
        "outputId": "b67b04b5-5170-47fc-a5af-ff41a9b3c89c"
      },
      "source": [
        "\n",
        "inputs = scaler.transform(df)\n",
        "inputs"
      ],
      "execution_count": 20,
      "outputs": [
        {
          "output_type": "execute_result",
          "data": {
            "text/plain": [
              "array([[0.4706426 , 0.46111744, 0.48280998, 0.47344448, 0.47088353],\n",
              "       [0.47401087, 0.46123417, 0.47704822, 0.46881889, 0.4684344 ],\n",
              "       [0.4693899 , 0.46753509, 0.47971984, 0.47799406, 0.58014293],\n",
              "       ...,\n",
              "       [0.44609842, 0.43966175, 0.45462663, 0.45181931, 0.69362236],\n",
              "       [       nan,        nan,        nan,        nan,        nan],\n",
              "       [0.44858819, 0.43506214, 0.46071565, 0.44922869, 0.64608693]])"
            ]
          },
          "metadata": {
            "tags": []
          },
          "execution_count": 20
        }
      ]
    },
    {
      "cell_type": "code",
      "metadata": {
        "id": "hJUxp4hMOMO2",
        "colab_type": "code",
        "colab": {}
      },
      "source": [
        "X_test = []\n",
        "Y_test = []\n",
        "for i in range (60, inputs.shape[0]):\n",
        "    X_test.append(inputs[i-60:i])\n",
        "    Y_test.append(inputs[i, 0])"
      ],
      "execution_count": 21,
      "outputs": []
    },
    {
      "cell_type": "code",
      "metadata": {
        "id": "tUBO-RvkOMT9",
        "colab_type": "code",
        "colab": {
          "base_uri": "https://localhost:8080/",
          "height": 34
        },
        "outputId": "4d328a09-e9dd-48a6-d1db-d613b3317c38"
      },
      "source": [
        "\n",
        "X_test, Y_test = np.array(X_test), np.array(Y_test)\n",
        "X_test.shape, Y_test.shape"
      ],
      "execution_count": 22,
      "outputs": [
        {
          "output_type": "execute_result",
          "data": {
            "text/plain": [
              "((147, 60, 5), (147,))"
            ]
          },
          "metadata": {
            "tags": []
          },
          "execution_count": 22
        }
      ]
    },
    {
      "cell_type": "code",
      "metadata": {
        "id": "ok_M9bNNOMZT",
        "colab_type": "code",
        "colab": {
          "base_uri": "https://localhost:8080/",
          "height": 1000
        },
        "outputId": "32547ebe-2de3-4372-a323-529aad302496"
      },
      "source": [
        "Y_pred = regressor.predict(X_test)\n",
        "Y_pred, Y_test"
      ],
      "execution_count": 23,
      "outputs": [
        {
          "output_type": "execute_result",
          "data": {
            "text/plain": [
              "(array([[0.331007  ],\n",
              "        [0.33046028],\n",
              "        [0.3298367 ],\n",
              "        [0.32910487],\n",
              "        [0.3284024 ],\n",
              "        [0.3281526 ],\n",
              "        [0.3292097 ],\n",
              "        [0.33218506],\n",
              "        [0.3364966 ],\n",
              "        [0.34172583],\n",
              "        [0.3472586 ],\n",
              "        [0.3524197 ],\n",
              "        [0.3567671 ],\n",
              "        [0.36163673],\n",
              "        [0.367705  ],\n",
              "        [0.37449864],\n",
              "        [0.38176522],\n",
              "        [0.38890997],\n",
              "        [0.39545184],\n",
              "        [0.40038225],\n",
              "        [0.4031287 ],\n",
              "        [0.4036151 ],\n",
              "        [0.40218326],\n",
              "        [0.39919224],\n",
              "        [0.3949159 ],\n",
              "        [0.39000925],\n",
              "        [0.38565484],\n",
              "        [0.38325086],\n",
              "        [0.38334614],\n",
              "        [0.38601676],\n",
              "        [0.3905914 ],\n",
              "        [0.3959839 ],\n",
              "        [0.401584  ],\n",
              "        [0.40688875],\n",
              "        [0.41134208],\n",
              "        [0.41519764],\n",
              "        [0.41900048],\n",
              "        [0.42289335],\n",
              "        [0.426898  ],\n",
              "        [0.4311237 ],\n",
              "        [0.43562165],\n",
              "        [0.44016668],\n",
              "        [0.44512275],\n",
              "        [0.45077994],\n",
              "        [0.45654064],\n",
              "        [0.46168607],\n",
              "        [0.4654852 ],\n",
              "        [0.46764192],\n",
              "        [0.468494  ],\n",
              "        [0.4683383 ],\n",
              "        [0.4671462 ],\n",
              "        [0.46491432],\n",
              "        [0.4615908 ],\n",
              "        [0.4578617 ],\n",
              "        [0.45440036],\n",
              "        [0.45118204],\n",
              "        [0.44822913],\n",
              "        [0.44505325],\n",
              "        [0.44140372],\n",
              "        [0.4368655 ],\n",
              "        [0.43143722],\n",
              "        [0.42582756],\n",
              "        [0.42064723],\n",
              "        [0.41590664],\n",
              "        [0.41208553],\n",
              "        [0.4096093 ],\n",
              "        [0.4082481 ],\n",
              "        [0.40738034],\n",
              "        [0.4065127 ],\n",
              "        [0.40511975],\n",
              "        [0.4028353 ],\n",
              "        [0.39948988],\n",
              "        [0.3957033 ],\n",
              "        [0.39044148],\n",
              "        [0.38332227],\n",
              "        [0.37473956],\n",
              "        [0.3651002 ],\n",
              "        [0.35493147],\n",
              "        [0.3454812 ],\n",
              "        [0.3379932 ],\n",
              "        [0.3326508 ],\n",
              "        [0.3291226 ],\n",
              "        [0.32730156],\n",
              "        [0.327285  ],\n",
              "        [0.32885483],\n",
              "        [0.33120155],\n",
              "        [0.3335654 ],\n",
              "        [0.33528465],\n",
              "        [0.33562616],\n",
              "        [0.33478093],\n",
              "        [0.33303463],\n",
              "        [0.33109722],\n",
              "        [0.33002433],\n",
              "        [0.32999566],\n",
              "        [0.3306619 ],\n",
              "        [0.33148953],\n",
              "        [0.33307672],\n",
              "        [0.33572456],\n",
              "        [0.33912286],\n",
              "        [0.34276128],\n",
              "        [0.34645036],\n",
              "        [0.34926113],\n",
              "        [0.350973  ],\n",
              "        [0.3516762 ],\n",
              "        [0.35137546],\n",
              "        [0.35006183],\n",
              "        [0.34865022],\n",
              "        [0.3472482 ],\n",
              "        [0.34598345],\n",
              "        [0.34489244],\n",
              "        [0.34411708],\n",
              "        [0.34336162],\n",
              "        [0.3425558 ],\n",
              "        [0.34239596],\n",
              "        [0.34300485],\n",
              "        [0.34431663],\n",
              "        [0.34621271],\n",
              "        [0.3487305 ],\n",
              "        [0.35164443],\n",
              "        [0.35676053],\n",
              "        [0.36569917],\n",
              "        [0.37706718],\n",
              "        [0.3891311 ],\n",
              "        [0.4009379 ],\n",
              "        [0.4114918 ],\n",
              "        [0.42012677],\n",
              "        [0.42717367],\n",
              "        [0.4341189 ],\n",
              "        [0.4412649 ],\n",
              "        [0.44801706],\n",
              "        [0.45419514],\n",
              "        [0.45886728],\n",
              "        [0.46088633],\n",
              "        [0.4604756 ],\n",
              "        [0.45919916],\n",
              "        [0.45755032],\n",
              "        [0.4551694 ],\n",
              "        [0.4523829 ],\n",
              "        [0.44971186],\n",
              "        [0.44731635],\n",
              "        [0.44503835],\n",
              "        [0.44259942],\n",
              "        [0.43931845],\n",
              "        [0.43503365],\n",
              "        [0.43001917],\n",
              "        [0.42448065],\n",
              "        [       nan]], dtype=float32),\n",
              " array([0.36404421, 0.35274189, 0.37144485, 0.37481687, 0.37481689,\n",
              "        0.39337909, 0.41375607, 0.40962943, 0.39905949, 0.4137693 ,\n",
              "        0.40708865, 0.41519845, 0.4126678 , 0.4481315 , 0.44746502,\n",
              "        0.44294293, 0.45340995, 0.45414747, 0.44187664, 0.43951171,\n",
              "        0.44392749, 0.44063401, 0.4263802 , 0.42817054, 0.42424758,\n",
              "        0.43631554, 0.45264889, 0.47570441, 0.47355641, 0.48352055,\n",
              "        0.47512856, 0.47738065, 0.47504183, 0.47235558, 0.46668552,\n",
              "        0.48919485, 0.49480043, 0.49827562, 0.50194548, 0.51498586,\n",
              "        0.5015308 , 0.51948498, 0.52578447, 0.51995978, 0.52526089,\n",
              "        0.50325567, 0.50571077, 0.49299865, 0.51644912, 0.48979094,\n",
              "        0.48888192, 0.49281608, 0.49155234, 0.50493469, 0.49093024,\n",
              "        0.47471054, 0.44811855, 0.44623423, 0.44014499, 0.4364425 ,\n",
              "        0.4345515 , 0.45020644, 0.44622457, 0.4447604 , 0.46123923,\n",
              "        0.46348247, 0.45242513, 0.41112436, 0.40133108, 0.40070633,\n",
              "        0.40088905, 0.25083985, 0.27961073, 0.26033447, 0.26987712,\n",
              "        0.25004949, 0.26168413, 0.26263251, 0.31166313, 0.31243352,\n",
              "        0.31134728, 0.29299475, 0.32435757, 0.34000998, 0.33671725,\n",
              "        0.33900849, 0.32594374, 0.3144597 , 0.297874  , 0.3240448 ,\n",
              "        0.32439264, 0.3331733 , 0.34305055, 0.33999267, 0.34642593,\n",
              "        0.34256623, 0.36772799, 0.36283855, 0.37106094, 0.36929136,\n",
              "        0.34667997, 0.34619432, 0.35176711, 0.34542816, 0.34554629,\n",
              "        0.33491835, 0.35958808, 0.35833095, 0.3670688 , 0.36323185,\n",
              "        0.34731958, 0.34730177, 0.35983438, 0.37604647, 0.38207278,\n",
              "        0.3830913 , 0.38875379, 0.39484487, 0.39534968, 0.44669754,\n",
              "        0.44022631, 0.4503966 , 0.45633251, 0.45177945, 0.45266483,\n",
              "        0.45756715, 0.47075205, 0.50569013, 0.50075431, 0.48781382,\n",
              "        0.44451427, 0.43699315, 0.44709745, 0.47124086, 0.49522989,\n",
              "        0.47444888, 0.47660908, 0.49219367, 0.49485539, 0.49476552,\n",
              "        0.48426809, 0.46134423, 0.46677084, 0.46818132, 0.44609842,\n",
              "               nan, 0.44858819]))"
            ]
          },
          "metadata": {
            "tags": []
          },
          "execution_count": 23
        }
      ]
    },
    {
      "cell_type": "code",
      "metadata": {
        "id": "NooOFk4POMef",
        "colab_type": "code",
        "colab": {
          "base_uri": "https://localhost:8080/",
          "height": 50
        },
        "outputId": "f3221f38-f3e4-4257-93cf-59a1fab599b4"
      },
      "source": [
        "\n",
        "scaler.scale_"
      ],
      "execution_count": 24,
      "outputs": [
        {
          "output_type": "execute_result",
          "data": {
            "text/plain": [
              "array([5.18164146e-05, 5.03087220e-05, 5.31841635e-05, 5.17617168e-05,\n",
              "       2.21730382e-11])"
            ]
          },
          "metadata": {
            "tags": []
          },
          "execution_count": 24
        }
      ]
    },
    {
      "cell_type": "code",
      "metadata": {
        "id": "zwqjw5chOMhr",
        "colab_type": "code",
        "colab": {
          "base_uri": "https://localhost:8080/",
          "height": 34
        },
        "outputId": "7e0c8d88-9b09-4307-8a95-8550719a6eda"
      },
      "source": [
        "\n",
        "scale = 1/5.18164146e-05\n",
        "scale"
      ],
      "execution_count": 25,
      "outputs": [
        {
          "output_type": "execute_result",
          "data": {
            "text/plain": [
              "19298.903787912797"
            ]
          },
          "metadata": {
            "tags": []
          },
          "execution_count": 25
        }
      ]
    },
    {
      "cell_type": "code",
      "metadata": {
        "id": "gun5WbRAOMkX",
        "colab_type": "code",
        "colab": {}
      },
      "source": [
        "Y_test = Y_test*scale\n",
        "Y_pred = Y_pred*scale"
      ],
      "execution_count": 26,
      "outputs": []
    },
    {
      "cell_type": "code",
      "metadata": {
        "id": "6qWEhB-GOMck",
        "colab_type": "code",
        "colab": {
          "base_uri": "https://localhost:8080/",
          "height": 1000
        },
        "outputId": "7ce00565-3f59-4218-c852-471391e21181"
      },
      "source": [
        "Y_pred"
      ],
      "execution_count": 27,
      "outputs": [
        {
          "output_type": "execute_result",
          "data": {
            "text/plain": [
              "array([[6388.0723],\n",
              "       [6377.5215],\n",
              "       [6365.487 ],\n",
              "       [6351.3633],\n",
              "       [6337.8066],\n",
              "       [6332.9854],\n",
              "       [6353.386 ],\n",
              "       [6410.8076],\n",
              "       [6494.0156],\n",
              "       [6594.934 ],\n",
              "       [6701.7104],\n",
              "       [6801.314 ],\n",
              "       [6885.214 ],\n",
              "       [6979.1924],\n",
              "       [7096.303 ],\n",
              "       [7227.413 ],\n",
              "       [7367.6504],\n",
              "       [7505.536 ],\n",
              "       [7631.787 ],\n",
              "       [7726.939 ],\n",
              "       [7779.9424],\n",
              "       [7789.329 ],\n",
              "       [7761.6963],\n",
              "       [7703.973 ],\n",
              "       [7621.4443],\n",
              "       [7526.7515],\n",
              "       [7442.716 ],\n",
              "       [7396.322 ],\n",
              "       [7398.1606],\n",
              "       [7449.7   ],\n",
              "       [7537.9863],\n",
              "       [7642.0557],\n",
              "       [7750.1313],\n",
              "       [7852.5073],\n",
              "       [7938.4517],\n",
              "       [8012.8594],\n",
              "       [8086.25  ],\n",
              "       [8161.3784],\n",
              "       [8238.664 ],\n",
              "       [8320.215 ],\n",
              "       [8407.0205],\n",
              "       [8494.734 ],\n",
              "       [8590.381 ],\n",
              "       [8699.559 ],\n",
              "       [8810.734 ],\n",
              "       [8910.035 ],\n",
              "       [8983.3545],\n",
              "       [9024.977 ],\n",
              "       [9041.421 ],\n",
              "       [9038.416 ],\n",
              "       [9015.409 ],\n",
              "       [8972.337 ],\n",
              "       [8908.196 ],\n",
              "       [8836.229 ],\n",
              "       [8769.429 ],\n",
              "       [8707.319 ],\n",
              "       [8650.331 ],\n",
              "       [8589.04  ],\n",
              "       [8518.608 ],\n",
              "       [8431.025 ],\n",
              "       [8326.266 ],\n",
              "       [8218.006 ],\n",
              "       [8118.031 ],\n",
              "       [8026.5425],\n",
              "       [7952.7993],\n",
              "       [7905.0103],\n",
              "       [7878.7407],\n",
              "       [7861.994 ],\n",
              "       [7845.25  ],\n",
              "       [7818.367 ],\n",
              "       [7774.2803],\n",
              "       [7709.717 ],\n",
              "       [7636.6396],\n",
              "       [7535.093 ],\n",
              "       [7397.6997],\n",
              "       [7232.063 ],\n",
              "       [7046.0337],\n",
              "       [6849.7886],\n",
              "       [6667.408 ],\n",
              "       [6522.8984],\n",
              "       [6419.7964],\n",
              "       [6351.7056],\n",
              "       [6316.5615],\n",
              "       [6316.2417],\n",
              "       [6346.538 ],\n",
              "       [6391.827 ],\n",
              "       [6437.447 ],\n",
              "       [6470.6265],\n",
              "       [6477.2173],\n",
              "       [6460.9053],\n",
              "       [6427.2036],\n",
              "       [6389.8135],\n",
              "       [6369.108 ],\n",
              "       [6368.5547],\n",
              "       [6381.412 ],\n",
              "       [6397.385 ],\n",
              "       [6428.0156],\n",
              "       [6479.116 ],\n",
              "       [6544.6997],\n",
              "       [6614.917 ],\n",
              "       [6686.1123],\n",
              "       [6740.3574],\n",
              "       [6773.3945],\n",
              "       [6786.9653],\n",
              "       [6781.1616],\n",
              "       [6755.81  ],\n",
              "       [6728.5674],\n",
              "       [6701.51  ],\n",
              "       [6677.1016],\n",
              "       [6656.0464],\n",
              "       [6641.0825],\n",
              "       [6626.503 ],\n",
              "       [6610.9517],\n",
              "       [6607.8667],\n",
              "       [6619.6177],\n",
              "       [6644.9336],\n",
              "       [6681.526 ],\n",
              "       [6730.1167],\n",
              "       [6786.352 ],\n",
              "       [6885.0874],\n",
              "       [7057.5933],\n",
              "       [7276.9834],\n",
              "       [7509.8037],\n",
              "       [7737.6626],\n",
              "       [7941.3413],\n",
              "       [8107.9863],\n",
              "       [8243.983 ],\n",
              "       [8378.019 ],\n",
              "       [8515.929 ],\n",
              "       [8646.238 ],\n",
              "       [8765.469 ],\n",
              "       [8855.636 ],\n",
              "       [8894.602 ],\n",
              "       [8886.675 ],\n",
              "       [8862.041 ],\n",
              "       [8830.22  ],\n",
              "       [8784.2705],\n",
              "       [8730.494 ],\n",
              "       [8678.946 ],\n",
              "       [8632.716 ],\n",
              "       [8588.753 ],\n",
              "       [8541.684 ],\n",
              "       [8478.364 ],\n",
              "       [8395.673 ],\n",
              "       [8298.898 ],\n",
              "       [8192.012 ],\n",
              "       [      nan]], dtype=float32)"
            ]
          },
          "metadata": {
            "tags": []
          },
          "execution_count": 27
        }
      ]
    },
    {
      "cell_type": "code",
      "metadata": {
        "id": "YHDGEA98PtLr",
        "colab_type": "code",
        "colab": {
          "base_uri": "https://localhost:8080/",
          "height": 638
        },
        "outputId": "ac2c9548-7d04-4e44-990e-dc5e984f071d"
      },
      "source": [
        "\n",
        "Y_test"
      ],
      "execution_count": 28,
      "outputs": [
        {
          "output_type": "execute_result",
          "data": {
            "text/plain": [
              "array([ 7025.65427061,  6807.5317115 ,  7168.47848868,  7233.55466072,\n",
              "        7233.55514872,  7591.7851299 ,  7985.0385481 ,  7905.39889906,\n",
              "        7701.41061796,  7985.2939191 ,  7856.36472004,  8012.87497412,\n",
              "        7964.03610609,  8648.44675144,  8635.58444644,  8548.31296239,\n",
              "        8750.31491549,  8764.5483145 ,  8527.73483738,  8482.09421236,\n",
              "        8567.3139394 ,  8503.75339237,  8228.67038423,  8263.22214224,\n",
              "        8187.51315721,  8420.41159533,  8735.62741549,  9180.57370472,\n",
              "        9139.11960369,  9331.41647879,  9169.46042371,  9212.92331473,\n",
              "        9167.78659571,  9115.94479868,  9006.51901763,  9440.92429085,\n",
              "        9549.1059319 ,  9616.17331494,  9686.99753298,  9938.6625721 ,\n",
              "        9678.99460397, 10025.49069715, 10147.06394021, 10034.65378315,\n",
              "       10136.95944721,  9712.28268999,  9759.66354901,  9514.33347089,\n",
              "        9966.90183012,  9452.42819686,  9434.88522885,  9510.81003289,\n",
              "        9486.42136087,  9744.68601001,  9474.41550187,  9161.39304071,\n",
              "        8648.19675144,  8611.83151742,  8494.31589236,  8422.86179033,\n",
              "        8386.36764931,  8688.49069646,  8611.64499342,  8583.38815741,\n",
              "        8901.41159557,  8944.70358759,  8731.30905648,  7934.24948508,\n",
              "        7745.24997398,  7733.19284497,  7736.71921197,  4840.93405449,\n",
              "        5396.18063677,  5024.16989458,  5208.33249168,  4825.68112448,\n",
              "        5050.21676959,  5068.5195036 ,  6014.75680909,  6029.6244841 ,\n",
              "        6008.66110509,  5654.4775119 ,  6259.74557822,  6561.81979737,\n",
              "        6498.27389834,  6542.49216036,  6290.35690623,  6068.72751212,\n",
              "        5748.64157395,  6253.70944521,  6260.42233622,  6429.8793673 ,\n",
              "        6620.4994844 ,  6561.48581337,  6685.64059843,  6611.1528054 ,\n",
              "        7096.74704365,  7002.3862036 ,  7161.06930968,  7126.91843066,\n",
              "        6690.54343044,  6681.17087143,  6788.71969949,  6666.38473842,\n",
              "        6668.66452343,  6463.55710232,  6939.65573456,  6915.39450455,\n",
              "        7084.02536364,  7009.9765356 ,  6702.88718044,  6702.54343044,\n",
              "        6944.40915257,  7257.28464173,  7373.58591079,  7393.2421608 ,\n",
              "        7502.52194585,  7620.07321591,  7629.81540292,  8620.77292343,\n",
              "        8495.88522836,  8692.16061846,  8806.71725952,  8718.84811848,\n",
              "        8735.93503249,  8830.54440754,  9084.99850967,  9759.26511101,\n",
              "        9664.00925196,  9414.27194684,  8578.63815741,  8433.48874333,\n",
              "        8628.49069643,  9094.43210367,  9557.39401791,  9156.3432357 ,\n",
              "        9198.03268972,  9498.79831488,  9550.16647891,  9548.4321039 ,\n",
              "        9345.8432358 ,  8903.43796257,  9008.16550163,  9035.38620464,\n",
              "        8609.21042342,            nan,  8657.26022845])"
            ]
          },
          "metadata": {
            "tags": []
          },
          "execution_count": 28
        }
      ]
    },
    {
      "cell_type": "code",
      "metadata": {
        "id": "72EtnzIhPtOS",
        "colab_type": "code",
        "colab": {
          "base_uri": "https://localhost:8080/",
          "height": 350
        },
        "outputId": "ce3ff033-4c7b-4b57-a710-de68c9c3f9a9"
      },
      "source": [
        "plt.figure(figsize=(14,5))\n",
        "plt.plot(Y_test, color = 'red', label = 'Real Bitcoin Price')\n",
        "plt.plot(Y_pred, color = 'green', label = 'Predicted Bitcoin Price')\n",
        "plt.title('Bitcoin Price Prediction using RNN-LSTM')\n",
        "plt.xlabel('Time')\n",
        "plt.ylabel('Price')\n",
        "plt.legend()\n",
        "plt.show()"
      ],
      "execution_count": 29,
      "outputs": [
        {
          "output_type": "display_data",
          "data": {
            "image/png": "[encoded data removed]",
            "text/plain": [
              "<Figure size 1008x360 with 1 Axes>"
            ]
          },
          "metadata": {
            "tags": [],
            "needs_background": "light"
          }
        }
      ]
    },
    {
      "cell_type": "code",
      "metadata": {
        "id": "9A-UdfAJPtQ6",
        "colab_type": "code",
        "colab": {}
      },
      "source": [
        ""
      ],
      "execution_count": null,
      "outputs": []
    },
    {
      "cell_type": "code",
      "metadata": {
        "id": "r1YjpzUOPtUJ",
        "colab_type": "code",
        "colab": {}
      },
      "source": [
        ""
      ],
      "execution_count": null,
      "outputs": []
    },
    {
      "cell_type": "code",
      "metadata": {
        "id": "f2HwD114OMXH",
        "colab_type": "code",
        "colab": {}
      },
      "source": [
        ""
      ],
      "execution_count": null,
      "outputs": []
    },
    {
      "cell_type": "code",
      "metadata": {
        "id": "S9X5sfm1OMRd",
        "colab_type": "code",
        "colab": {}
      },
      "source": [
        ""
      ],
      "execution_count": null,
      "outputs": []
    },
    {
      "cell_type": "code",
      "metadata": {
        "id": "62zyIM4rOMH5",
        "colab_type": "code",
        "colab": {}
      },
      "source": [
        ""
      ],
      "execution_count": null,
      "outputs": []
    },
    {
      "cell_type": "code",
      "metadata": {
        "id": "FLkB-f3uOMCC",
        "colab_type": "code",
        "colab": {}
      },
      "source": [
        ""
      ],
      "execution_count": null,
      "outputs": []
    },
    {
      "cell_type": "code",
      "metadata": {
        "id": "tJjJukQkNnXM",
        "colab_type": "code",
        "colab": {}
      },
      "source": [
        ""
      ],
      "execution_count": null,
      "outputs": []
    },
    {
      "cell_type": "code",
      "metadata": {
        "id": "UmcDVPg4NnZ3",
        "colab_type": "code",
        "colab": {}
      },
      "source": [
        ""
      ],
      "execution_count": null,
      "outputs": []
    },
    {
      "cell_type": "code",
      "metadata": {
        "id": "W5q4__GyNnch",
        "colab_type": "code",
        "colab": {}
      },
      "source": [
        ""
      ],
      "execution_count": null,
      "outputs": []
    },
    {
      "cell_type": "code",
      "metadata": {
        "id": "LvZgj-C1Nnfm",
        "colab_type": "code",
        "colab": {}
      },
      "source": [
        ""
      ],
      "execution_count": null,
      "outputs": []
    }
  ]
}